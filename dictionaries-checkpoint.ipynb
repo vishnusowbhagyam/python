{
 "cells": [
  {
   "cell_type": "raw",
   "id": "2b72b7e3-ea9f-4540-82ab-c2c661f6884a",
   "metadata": {},
   "source": [
    "DICTIONARIES\n",
    "-it is unordered collection of key value pairs\n",
    "-keys are unique and values allow duplicates\n",
    "-it denotes with {key:value}\n",
    "-it is non index based\n",
    "-values are accessed with keys."
   ]
  },
  {
   "cell_type": "code",
   "execution_count": 2,
   "id": "dcf8aa15-4abf-4c0a-9193-3143d4116174",
   "metadata": {},
   "outputs": [],
   "source": [
    "#empty dictionary\n",
    "d1 = {}\n",
    "d1 = dict()"
   ]
  },
  {
   "cell_type": "raw",
   "id": "051623a6-17bc-4512-81c0-155365633456",
   "metadata": {},
   "source": [
    "#dictionary methods\n",
    "-keys()-returns all keys of dictionary\n",
    "-values()-returns all values from dictionary\n",
    "-items()-returns the list of tuple of key value pairs\n",
    "-pop(key)-return nd remove values of key else error\n",
    "-popitem()-return and remove last updated item from dict\n",
    "-get(key,default)-returns the value of key otherwise default\n",
    "-clear()-remove all items from dictionary and returns empty dictionary"
   ]
  },
  {
   "cell_type": "code",
   "execution_count": 6,
   "id": "fb17b019-3f9a-459b-9dfd-4f17540a9a0d",
   "metadata": {},
   "outputs": [
    {
     "name": "stdout",
     "output_type": "stream",
     "text": [
      "dict_keys(['a', 'b', 1, 'lang'])\n",
      "dict_values([1, 12, 33, 'python'])\n",
      "dict_items([('a', 1), ('b', 12), (1, 33), ('lang', 'python')])\n",
      "33\n",
      "('lang', 'python')\n",
      "None\n",
      "None\n"
     ]
    }
   ],
   "source": [
    "d1 = {'a':1,'b':12,1:33,'lang':'python'}\n",
    "print(d1.keys())\n",
    "print(d1.values())\n",
    "print(d1.items())\n",
    "print(d1.pop(1))\n",
    "print(d1.popitem())\n",
    "print(d1.get(11))\n",
    "print(d1.clear())\n",
    "      "
   ]
  },
  {
   "cell_type": "code",
   "execution_count": 10,
   "id": "debb768a-47d5-4d87-9ff6-1164244d8fa4",
   "metadata": {},
   "outputs": [
    {
     "name": "stdout",
     "output_type": "stream",
     "text": [
      "1\n",
      "{'a': 10, 'b': 12, 1: 33, 'lang': 'python'}\n"
     ]
    }
   ],
   "source": [
    "#access with keys\n",
    "d1 = {'a':1,'b':12,1:33,'lang':'python'}\n",
    "print(d1['a'])\n",
    "#update using keys\n",
    "d1['a'] = 10\n",
    "print(d1)"
   ]
  },
  {
   "cell_type": "code",
   "execution_count": null,
   "id": "6550a75d-133c-4d59-a8ca-ad0785592cef",
   "metadata": {},
   "outputs": [],
   "source": []
  }
 ],
 "metadata": {
  "kernelspec": {
   "display_name": "Python 3 (ipykernel)",
   "language": "python",
   "name": "python3"
  },
  "language_info": {
   "codemirror_mode": {
    "name": "ipython",
    "version": 3
   },
   "file_extension": ".py",
   "mimetype": "text/x-python",
   "name": "python",
   "nbconvert_exporter": "python",
   "pygments_lexer": "ipython3",
   "version": "3.8.1"
  }
 },
 "nbformat": 4,
 "nbformat_minor": 5
}
