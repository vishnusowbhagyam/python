{
 "cells": [
  {
   "cell_type": "raw",
   "id": "bb71cae7-8f56-4f10-a9ef-f2a5f013b309",
   "metadata": {},
   "source": [
    "sets\n",
    "-unordered collection of different data type elements\n",
    "-defines with {}\n",
    "-mutable data type\n",
    "-it is non indexbased\n",
    "-sets are hashable\n",
    "-it does not allow duplicate values"
   ]
  },
  {
   "cell_type": "code",
   "execution_count": 8,
   "id": "44806b3e-7959-4327-8720-aa8240f1366f",
   "metadata": {},
   "outputs": [],
   "source": [
    "#empty set\n",
    "s = set()"
   ]
  },
  {
   "cell_type": "code",
   "execution_count": 11,
   "id": "7ba4de9d-6416-42d5-8133-59e2c4e24e10",
   "metadata": {},
   "outputs": [
    {
     "name": "stdin",
     "output_type": "stream",
     "text": [
      " 1 2 3 4 5 6 7 8 9 0 1 2 3 4  5  7\n"
     ]
    },
    {
     "name": "stdout",
     "output_type": "stream",
     "text": [
      "{0, 1, 2, 3, 4, 5, 6, 7, 8, 9}\n"
     ]
    }
   ],
   "source": [
    "#read input from user\n",
    "s = set(map(int,input().split()))\n",
    "print(s)"
   ]
  },
  {
   "cell_type": "code",
   "execution_count": 13,
   "id": "e8b55021-304a-4a15-8fa6-57abd9a561aa",
   "metadata": {},
   "outputs": [
    {
     "ename": "TypeError",
     "evalue": "unhashable type: 'list'",
     "output_type": "error",
     "traceback": [
      "\u001b[1;31m---------------------------------------------------------------------------\u001b[0m",
      "\u001b[1;31mTypeError\u001b[0m                                 Traceback (most recent call last)",
      "Cell \u001b[1;32mIn[13], line 2\u001b[0m\n\u001b[0;32m      1\u001b[0m \u001b[38;5;66;03m#does not allow unhashable data types\u001b[39;00m\n\u001b[1;32m----> 2\u001b[0m s \u001b[38;5;241m=\u001b[39m {\u001b[38;5;241m1\u001b[39m,\u001b[38;5;241m2\u001b[39m,\u001b[38;5;241m3\u001b[39m,[\u001b[38;5;241m1\u001b[39m,\u001b[38;5;241m2\u001b[39m,\u001b[38;5;241m4\u001b[39m],\u001b[38;5;124m'\u001b[39m\u001b[38;5;124mq\u001b[39m\u001b[38;5;124m'\u001b[39m,\u001b[38;5;124m'\u001b[39m\u001b[38;5;124mw\u001b[39m\u001b[38;5;124m'\u001b[39m}\n\u001b[0;32m      3\u001b[0m \u001b[38;5;28mprint\u001b[39m(s)\n",
      "\u001b[1;31mTypeError\u001b[0m: unhashable type: 'list'"
     ]
    }
   ],
   "source": [
    "#does not allow unhashable data types\n",
    "s = {1,2,3,[1,2,4],'q','w'}\n",
    "print(s)"
   ]
  },
  {
   "cell_type": "raw",
   "id": "a00e268e-9615-463d-9a02-098a09061d3e",
   "metadata": {},
   "source": [
    "SETS METHODS\n",
    "1.UNION-elements from either a or b (or) all elements from a and b without repetition\n",
    "2.INTERSECTION-common elements from set a and set b\n",
    "3.DIFFERENCE-\n",
    "4.SYMMETRIC DIFFERENCE-the elements from a and b but not from both i.e common elements remove\n",
    "5.SUBSET-all set b elements are present in set a then set b is subset of set a\n",
    "6.SUPERSET-all set b elements are present in set a then set a is superset of set b\n",
    "7.DISJOINT SET-there is no common elements from both the sets than those two sets are called s disjoint sets"
   ]
  },
  {
   "cell_type": "raw",
   "id": "e8ed7249-846b-4fe0-8fb1-6d03ebbb4e64",
   "metadata": {},
   "source": [
    "add(ele)-adds elements to set\n",
    "update(iterable)-update the current set with iterable elements\n",
    "remove(ele)-removes the element from set otherwise keyerror\n",
    "discard(ele)-removes ele from set otherwise does nothing\n",
    "pop()-removes the random element from set\n",
    "clear()-remove all elements from set returns empty set"
   ]
  },
  {
   "cell_type": "code",
   "execution_count": 1,
   "id": "561f3aae-54b7-4d29-8e9e-2812cc1362c9",
   "metadata": {},
   "outputs": [
    {
     "name": "stdout",
     "output_type": "stream",
     "text": [
      "original set: {1, 2, 34}\n",
      "after add operation: {100, 1, 2, 34}\n",
      "after update operation: {1, 2, 34, 100, 40, 20, 30}\n",
      "after remove operation: {1, 2, 34, 40, 20, 30}\n",
      "after discard operation: {1, 2, 34, 20, 30}\n",
      "after pop operation: {2, 34, 20, 30}\n",
      "after clear operation: set()\n"
     ]
    }
   ],
   "source": [
    "s = {1,2,34}\n",
    "print(\"original set:\",s)\n",
    "s.add(100)\n",
    "print(\"after add operation:\",s)\n",
    "s.update([1,20,30,40])\n",
    "print(\"after update operation:\",s)\n",
    "s.remove(100)\n",
    "print(\"after remove operation:\",s)\n",
    "s.discard(40)\n",
    "print(\"after discard operation:\",s)\n",
    "s.pop()\n",
    "print(\"after pop operation:\",s)\n",
    "s.clear()\n",
    "print(\"after clear operation:\",s)"
   ]
  },
  {
   "cell_type": "code",
   "execution_count": 3,
   "id": "41190769-f313-4da1-8170-4bed296f4a33",
   "metadata": {},
   "outputs": [
    {
     "name": "stdout",
     "output_type": "stream",
     "text": [
      "after update operation: {1, 2, 3, 100, 4, 10}\n"
     ]
    }
   ],
   "source": [
    "s = {1,2,3,4}\n",
    "s.update([4,100,10])\n",
    "print(\"after update operation:\",s)"
   ]
  },
  {
   "cell_type": "code",
   "execution_count": 4,
   "id": "6334c4ad-4654-4256-b4e6-06f9a5ff50e4",
   "metadata": {},
   "outputs": [
    {
     "ename": "KeyError",
     "evalue": "33",
     "output_type": "error",
     "traceback": [
      "\u001b[1;31m---------------------------------------------------------------------------\u001b[0m",
      "\u001b[1;31mKeyError\u001b[0m                                  Traceback (most recent call last)",
      "Cell \u001b[1;32mIn[4], line 1\u001b[0m\n\u001b[1;32m----> 1\u001b[0m \u001b[43ms\u001b[49m\u001b[38;5;241;43m.\u001b[39;49m\u001b[43mremove\u001b[49m\u001b[43m(\u001b[49m\u001b[38;5;241;43m33\u001b[39;49m\u001b[43m)\u001b[49m\n\u001b[0;32m      2\u001b[0m \u001b[38;5;28mprint\u001b[39m(\u001b[38;5;124m\"\u001b[39m\u001b[38;5;124mafter remove operation:\u001b[39m\u001b[38;5;124m\"\u001b[39m,s)\n",
      "\u001b[1;31mKeyError\u001b[0m: 33"
     ]
    }
   ],
   "source": [
    "s.remove(33)\n",
    "print(\"after remove operation:\",s)"
   ]
  },
  {
   "cell_type": "code",
   "execution_count": 5,
   "id": "5afeb084-3552-4088-84d3-50bdad2008be",
   "metadata": {},
   "outputs": [
    {
     "name": "stdout",
     "output_type": "stream",
     "text": [
      "{1, 2, 3, 4, 5, 6} {3, 4} {1, 2} {1, 2, 5, 6}\n"
     ]
    }
   ],
   "source": [
    "#union(),intersection(),difference(),symmetric_difference()\n",
    "s1 = {1,2,3,4}\n",
    "s2 = {3,4,5,6}\n",
    "union = s1.union(s2)\n",
    "intersection = s1.intersection(s2)\n",
    "difference = s1.difference(s2)\n",
    "symmetric_difference = s1.symmetric_difference(s2)\n",
    "print(union,intersection,difference,symmetric_difference)"
   ]
  },
  {
   "cell_type": "code",
   "execution_count": 6,
   "id": "4eddacd7-7deb-4c87-b75f-72b288494d01",
   "metadata": {},
   "outputs": [
    {
     "name": "stdout",
     "output_type": "stream",
     "text": [
      "False\n",
      "True\n",
      "True\n",
      "False\n"
     ]
    }
   ],
   "source": [
    "#issubset(),issuperset(),isdisjoint()\n",
    "s1 = {1,2,3,4,5,6}\n",
    "s2 = {4,6}\n",
    "print(s1.issubset(s2))\n",
    "print(s2.issubset(s1))\n",
    "print(s1.issuperset(s2))\n",
    "print(s2.issuperset(s1))"
   ]
  },
  {
   "cell_type": "code",
   "execution_count": 7,
   "id": "433c751f-37ee-45c9-86a4-74fb9e89d2c8",
   "metadata": {},
   "outputs": [
    {
     "name": "stdout",
     "output_type": "stream",
     "text": [
      "True\n"
     ]
    }
   ],
   "source": [
    "#isdisjoint()\n",
    "s1 = {1,2,34}\n",
    "s2 = {5,6,7,8}\n",
    "print(s1.isdisjoint(s2))"
   ]
  },
  {
   "cell_type": "code",
   "execution_count": null,
   "id": "4a0b3cdb-0a7a-47b8-9ec2-e98e9cf6d96b",
   "metadata": {},
   "outputs": [],
   "source": []
  },
  {
   "cell_type": "raw",
   "id": "95934c53-ac86-4208-addb-1438d7ea3d3c",
   "metadata": {},
   "source": []
  },
  {
   "cell_type": "raw",
   "id": "bd1280db-3461-4af8-86b3-03bfb7335feb",
   "metadata": {},
   "source": []
  }
 ],
 "metadata": {
  "kernelspec": {
   "display_name": "Python 3 (ipykernel)",
   "language": "python",
   "name": "python3"
  },
  "language_info": {
   "codemirror_mode": {
    "name": "ipython",
    "version": 3
   },
   "file_extension": ".py",
   "mimetype": "text/x-python",
   "name": "python",
   "nbconvert_exporter": "python",
   "pygments_lexer": "ipython3",
   "version": "3.8.1"
  }
 },
 "nbformat": 4,
 "nbformat_minor": 5
}
