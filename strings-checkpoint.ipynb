{
 "cells": [
  {
   "cell_type": "raw",
   "id": "4ae26b3a-2667-4f8b-aa17-2df051c3ec9d",
   "metadata": {},
   "source": [
    "STRINGS\n",
    "-It is a sequence of characters\n",
    "-It denotes with '' or \"\".\n",
    "-Strings are immutable\n",
    "-Strings are index based and slicable"
   ]
  },
  {
   "cell_type": "code",
   "execution_count": 2,
   "id": "473e9561-c417-4160-8ead-3172103fe3a2",
   "metadata": {},
   "outputs": [],
   "source": [
    "s = \"abcde\""
   ]
  },
  {
   "cell_type": "code",
   "execution_count": 24,
   "id": "fa7fd0ae-04d6-4a30-ad63-6a946b5cbff8",
   "metadata": {},
   "outputs": [
    {
     "name": "stdout",
     "output_type": "stream",
     "text": [
      "a\n",
      "abc\n",
      "ace\n"
     ]
    }
   ],
   "source": [
    "#slicing & idex based\n",
    "print(s[0])\n",
    "print(s[0:3])\n",
    "#slicing with step\n",
    "print(s[0:5:2])"
   ]
  },
  {
   "cell_type": "code",
   "execution_count": 16,
   "id": "4d45c51e-a774-4b42-9958-b0593be1df1a",
   "metadata": {},
   "outputs": [
    {
     "name": "stdout",
     "output_type": "stream",
     "text": [
      "edcba\n"
     ]
    }
   ],
   "source": [
    "#reverse a string\n",
    "print(s[5::-1])"
   ]
  },
  {
   "cell_type": "code",
   "execution_count": 18,
   "id": "55f28840-5476-4f6b-9cb7-8edc39adc07f",
   "metadata": {},
   "outputs": [
    {
     "name": "stdout",
     "output_type": "stream",
     "text": [
      "katta vishnusowbhagyam\n"
     ]
    }
   ],
   "source": [
    "#string concatination\n",
    "s0 = \"katta\"\n",
    "s1 = \"vishnusowbhagyam\"\n",
    "print(s0 + \" \" + s1)"
   ]
  },
  {
   "cell_type": "code",
   "execution_count": 22,
   "id": "53eab726-3769-4dcf-a617-b2647ae81a9b",
   "metadata": {},
   "outputs": [
    {
     "name": "stdout",
     "output_type": "stream",
     "text": [
      "katta katta katta \n",
      "vishnusowbhagyamvishnusowbhagyamvishnusowbhagyamvishnusowbhagyam\n"
     ]
    }
   ],
   "source": [
    "#string repetition with space\n",
    "print((s0 + \" \") * 3)\n",
    "#string repetiton without space\n",
    "print(s1 * 4)"
   ]
  },
  {
   "cell_type": "code",
   "execution_count": 23,
   "id": "0491965a-3867-4743-84c7-424da7f3486d",
   "metadata": {},
   "outputs": [
    {
     "name": "stdout",
     "output_type": "stream",
     "text": [
      "a\n"
     ]
    },
    {
     "ename": "TypeError",
     "evalue": "'str' object does not support item assignment",
     "output_type": "error",
     "traceback": [
      "\u001b[1;31m---------------------------------------------------------------------------\u001b[0m",
      "\u001b[1;31mTypeError\u001b[0m                                 Traceback (most recent call last)",
      "Cell \u001b[1;32mIn[23], line 4\u001b[0m\n\u001b[0;32m      2\u001b[0m s \u001b[38;5;241m=\u001b[39m \u001b[38;5;124m\"\u001b[39m\u001b[38;5;124mabcde\u001b[39m\u001b[38;5;124m\"\u001b[39m\n\u001b[0;32m      3\u001b[0m \u001b[38;5;28mprint\u001b[39m(s[\u001b[38;5;241m0\u001b[39m])\n\u001b[1;32m----> 4\u001b[0m \u001b[43ms\u001b[49m\u001b[43m[\u001b[49m\u001b[38;5;241;43m0\u001b[39;49m\u001b[43m]\u001b[49m \u001b[38;5;241m=\u001b[39m \u001b[38;5;124m\"\u001b[39m\u001b[38;5;124ms\u001b[39m\u001b[38;5;124m\"\u001b[39m\n\u001b[0;32m      5\u001b[0m \u001b[38;5;28mprint\u001b[39m(s)\n",
      "\u001b[1;31mTypeError\u001b[0m: 'str' object does not support item assignment"
     ]
    }
   ],
   "source": [
    "#immutable\n",
    "s = \"abcde\"\n",
    "print(s[0])\n",
    "s[0] = \"s\"\n",
    "print(s)"
   ]
  },
  {
   "cell_type": "code",
   "execution_count": 26,
   "id": "599b0079-13c6-4ada-9ad9-67a571975eee",
   "metadata": {},
   "outputs": [
    {
     "name": "stdout",
     "output_type": "stream",
     "text": [
      "i love programming\n",
      "I LOVE PROGRAMMING\n",
      "i lOVE pROGRAMMING\n",
      "I Love Programming\n",
      "I love programming\n"
     ]
    }
   ],
   "source": [
    "#case conversions of string\n",
    "string = \"I Love Programming\"\n",
    "print(string.lower())#converting string into lower case letters\n",
    "print(string.upper())#converting string into upper case letters\n",
    "print(string.swapcase())#converting string from lower case letters to upper case and uppercase letters to lower case\n",
    "print(string.title())#converting every word first letter into upper case\n",
    "print(string.capitalize())#converting first letter of entire string into upper case letter"
   ]
  },
  {
   "cell_type": "code",
   "execution_count": 29,
   "id": "b62c418a-e5ed-4dd8-9634-c47172bba52c",
   "metadata": {},
   "outputs": [
    {
     "name": "stdout",
     "output_type": "stream",
     "text": [
      "abc\n",
      "abc   \n",
      "   abc\n",
      "abc\n",
      "abc111\n",
      "111abc\n"
     ]
    }
   ],
   "source": [
    "#remove white spaces from string\n",
    "str = \"   abc   \"\n",
    "print(str.strip())#removes both left and right white spaces\n",
    "print(str.lstrip())#removes only left white spaces\n",
    "print(str.rstrip())#removes only right side white spaces\n",
    "#not only with white spaces\n",
    "str1 = \"111abc111\"\n",
    "print(str1.strip('1'))\n",
    "print(str1.lstrip('1'))\n",
    "print(str1.rstrip('1'))"
   ]
  },
  {
   "cell_type": "raw",
   "id": "004566c3-a678-4184-93c6-3d1ffc8caedd",
   "metadata": {},
   "source": [
    "split()-converts string into list of substrings as per the delimiter"
   ]
  },
  {
   "cell_type": "code",
   "execution_count": 30,
   "id": "195973be-a3a6-4cd5-94ee-5ee7026468b9",
   "metadata": {},
   "outputs": [
    {
     "name": "stdout",
     "output_type": "stream",
     "text": [
      "['I', 'am', 'learning', 'python', 'programming']\n",
      "['I ', 'm le', 'rning python progr', 'mming']\n",
      "['I am learning python programming']\n"
     ]
    }
   ],
   "source": [
    "name = \"I am learning python programming\"\n",
    "print(name.split())#defaultly splits with space\n",
    "print(name.split('a'))#splits with specific letter or number\n",
    "print(name.split('z'))\n",
    "      "
   ]
  },
  {
   "cell_type": "code",
   "execution_count": 32,
   "id": "b8b66d75-ad86-4e96-850e-0293885106a1",
   "metadata": {},
   "outputs": [
    {
     "name": "stdout",
     "output_type": "stream",
     "text": [
      "2\n",
      "14\n",
      "-1\n"
     ]
    }
   ],
   "source": [
    "#find(substring)-returns lower or first position of substring otherwise -1\n",
    "name = \"I am learning python programming\"\n",
    "print(name.find('am'))\n",
    "print(name.find('p'))\n",
    "print(name.find('x'))#returns -1 if letter was not found in string"
   ]
  },
  {
   "cell_type": "code",
   "execution_count": 33,
   "id": "da0d5733-6253-4303-a056-f3783a24b242",
   "metadata": {},
   "outputs": [
    {
     "name": "stdout",
     "output_type": "stream",
     "text": [
      "5\n"
     ]
    },
    {
     "ename": "ValueError",
     "evalue": "substring not found",
     "output_type": "error",
     "traceback": [
      "\u001b[1;31m---------------------------------------------------------------------------\u001b[0m",
      "\u001b[1;31mValueError\u001b[0m                                Traceback (most recent call last)",
      "Cell \u001b[1;32mIn[33], line 3\u001b[0m\n\u001b[0;32m      1\u001b[0m \u001b[38;5;66;03m#index(substring)-returns lower or first position of substring otherwise returns value error\u001b[39;00m\n\u001b[0;32m      2\u001b[0m \u001b[38;5;28mprint\u001b[39m(name\u001b[38;5;241m.\u001b[39mindex(\u001b[38;5;124m'\u001b[39m\u001b[38;5;124mlearning\u001b[39m\u001b[38;5;124m'\u001b[39m))\n\u001b[1;32m----> 3\u001b[0m \u001b[38;5;28mprint\u001b[39m(\u001b[43mname\u001b[49m\u001b[38;5;241;43m.\u001b[39;49m\u001b[43mindex\u001b[49m\u001b[43m(\u001b[49m\u001b[38;5;124;43m'\u001b[39;49m\u001b[38;5;124;43mu\u001b[39;49m\u001b[38;5;124;43m'\u001b[39;49m\u001b[43m)\u001b[49m)\n",
      "\u001b[1;31mValueError\u001b[0m: substring not found"
     ]
    }
   ],
   "source": [
    "#index(substring)-returns lower or first position of substring otherwise returns value error\n",
    "print(name.index('learning'))\n",
    "print(name.index('u'))"
   ]
  },
  {
   "cell_type": "code",
   "execution_count": 34,
   "id": "1f4f7033-09c7-4583-8174-a6f616192ec8",
   "metadata": {},
   "outputs": [
    {
     "name": "stdout",
     "output_type": "stream",
     "text": [
      "I am learning java programming\n",
      "I am learning python programming\n"
     ]
    }
   ],
   "source": [
    "#replace(old,new)-replaces with old character or letter with new one else returns same string\n",
    "name = \"I am learning python programming\"\n",
    "print(name.replace('python','java'))\n",
    "print(name.replace('x','a'))"
   ]
  },
  {
   "cell_type": "raw",
   "id": "f2a40641-6916-47f3-b4e1-3d831f594e2e",
   "metadata": {},
   "source": [
    "isalpha()-returns true if all characters in string contains alphabets else false\n",
    "isalnum()-returns true if string contains all numbers else false\n",
    "isdigit()-returns true if string contains alpabets or numbers\n"
   ]
  },
  {
   "cell_type": "code",
   "execution_count": 40,
   "id": "6cd05f86-b5f2-4c75-8d12-abbc1044bb85",
   "metadata": {},
   "outputs": [
    {
     "name": "stdout",
     "output_type": "stream",
     "text": [
      "True True False\n",
      "False True False\n",
      "True\n"
     ]
    }
   ],
   "source": [
    "name = \"abcd\"\n",
    "number = \"12345\"\n",
    "print(name.isalpha(),name.isalnum(),name.isdigit())\n",
    "print(number.isalpha(),name.isalnum(),name.isdigit())\n",
    "print(name.isalpha())\n"
   ]
  },
  {
   "cell_type": "code",
   "execution_count": 42,
   "id": "b8026093-ecbe-4fcb-910d-f47fef2ed35d",
   "metadata": {},
   "outputs": [
    {
     "name": "stdout",
     "output_type": "stream",
     "text": [
      "False\n",
      "True\n"
     ]
    }
   ],
   "source": [
    "#string comparision-It follows lexographical order to compare strings\n",
    "s1 = \"abcd\"\n",
    "s2 = \"acbd\"\n",
    "print(s1 > s2)\n",
    "print(s1 < s2)"
   ]
  },
  {
   "cell_type": "code",
   "execution_count": 44,
   "id": "1b6f4a37-3110-4150-baf5-5cf2045e8903",
   "metadata": {},
   "outputs": [
    {
     "name": "stdout",
     "output_type": "stream",
     "text": [
      "16\n"
     ]
    }
   ],
   "source": [
    "#length of string\n",
    "s1 = \"abcdefghijklmnop\"\n",
    "length_string = len(s1)\n",
    "print(length_string)"
   ]
  },
  {
   "cell_type": "code",
   "execution_count": null,
   "id": "73082a9a-25bb-4890-8335-fd0428dd497c",
   "metadata": {},
   "outputs": [],
   "source": []
  }
 ],
 "metadata": {
  "kernelspec": {
   "display_name": "Python 3 (ipykernel)",
   "language": "python",
   "name": "python3"
  },
  "language_info": {
   "codemirror_mode": {
    "name": "ipython",
    "version": 3
   },
   "file_extension": ".py",
   "mimetype": "text/x-python",
   "name": "python",
   "nbconvert_exporter": "python",
   "pygments_lexer": "ipython3",
   "version": "3.8.1"
  }
 },
 "nbformat": 4,
 "nbformat_minor": 5
}
