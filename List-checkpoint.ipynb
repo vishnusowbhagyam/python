{
 "cells": [
  {
   "cell_type": "raw",
   "id": "50b7a4cc-4272-49dc-9992-4decdfecec34",
   "metadata": {},
   "source": [
    "Lists\n",
    "-It is a collection of different data types\n",
    "- list is an ordered collection of mutable data type.\n",
    "-It denotes with []\n",
    "-It is index based and slicable\n",
    "-It contains duplicate values"
   ]
  },
  {
   "cell_type": "code",
   "execution_count": 1,
   "id": "9c31dafd-de72-452f-b130-131dce135aa8",
   "metadata": {},
   "outputs": [],
   "source": [
    "#create empty list\n",
    "lst = []\n",
    "lst = list()"
   ]
  },
  {
   "cell_type": "code",
   "execution_count": 4,
   "id": "5bd73905-407a-4c2e-96c2-30f9deff6758",
   "metadata": {},
   "outputs": [
    {
     "name": "stdin",
     "output_type": "stream",
     "text": [
      " 1 2 3 4 5 6 7\n"
     ]
    },
    {
     "name": "stdout",
     "output_type": "stream",
     "text": [
      "[1, 2, 3, 4, 5, 6, 7]\n"
     ]
    },
    {
     "name": "stdin",
     "output_type": "stream",
     "text": [
      " 1 2 3 4 5 6 7\n"
     ]
    },
    {
     "name": "stdout",
     "output_type": "stream",
     "text": [
      "['1', '2', '3', '4', '5', '6', '7']\n"
     ]
    },
    {
     "name": "stdin",
     "output_type": "stream",
     "text": [
      " 1 2 3 4 5 6 7\n"
     ]
    },
    {
     "name": "stdout",
     "output_type": "stream",
     "text": [
      "[1.0, 2.0, 3.0, 4.0, 5.0, 6.0, 7.0]\n"
     ]
    }
   ],
   "source": [
    "#how to take list input from user\n",
    "lst1 = list(map(int,input().split()))\n",
    "print(lst1)\n",
    "lst2 = list(map(str,input().split()))\n",
    "print(lst2)\n",
    "lst3 = list(map(float,input().split()))\n",
    "print(lst3)"
   ]
  },
  {
   "cell_type": "code",
   "execution_count": 6,
   "id": "f83f8447-f3c3-45c1-ab03-cb9312fc0a05",
   "metadata": {},
   "outputs": [
    {
     "name": "stdout",
     "output_type": "stream",
     "text": [
      "[1, 2, 3, 'a', 'b', 'katta', 4.9, 0, 1, 'a']\n"
     ]
    }
   ],
   "source": [
    "#collection of different data types and contains duplicate values\n",
    "arr = [1,2,3, 'a','b','katta',4.9,0,1,'a']\n",
    "print(arr)"
   ]
  },
  {
   "cell_type": "code",
   "execution_count": 8,
   "id": "5890f058-2090-47f4-8044-a1c45cc583d9",
   "metadata": {},
   "outputs": [
    {
     "name": "stdout",
     "output_type": "stream",
     "text": [
      "2\n",
      "1\n",
      "[1, 2, 3, 'a', 'b', 'katta', 4.9, 0, 1, 'a']\n",
      "[1, 2, 3, 'a', 'b']\n",
      "[1, 3, 'b', 4.9, 1]\n",
      "['a', 1, 0, 4.9, 'katta', 'b', 'a', 3, 2, 1]\n"
     ]
    }
   ],
   "source": [
    "#index based and slicable\n",
    "arr = [1,2,3, 'a','b','katta',4.9,0,1,'a']\n",
    "print(arr[1])\n",
    "print(arr[-2])\n",
    "print(arr[ : ])\n",
    "print(arr[0:5])\n",
    "print(arr[0:10:2])\n",
    "print(arr[::-1])"
   ]
  },
  {
   "cell_type": "code",
   "execution_count": 10,
   "id": "98b05d58-28c7-45cf-ad41-c580d50c8823",
   "metadata": {},
   "outputs": [
    {
     "name": "stdout",
     "output_type": "stream",
     "text": [
      "1\n",
      "['python', 2, 3, 'a', 'b', 'katta', 4.9, 0, 1, 'a']\n"
     ]
    }
   ],
   "source": [
    "#mutable\n",
    "arr = [1,2,3, 'a','b','katta',4.9,0,1,'a']\n",
    "print(arr[0])\n",
    "arr[0] = \"python\"\n",
    "print(arr)"
   ]
  },
  {
   "cell_type": "code",
   "execution_count": 11,
   "id": "90c5040f-d857-4444-9fff-d105933dc107",
   "metadata": {},
   "outputs": [
    {
     "name": "stdout",
     "output_type": "stream",
     "text": [
      "10\n"
     ]
    }
   ],
   "source": [
    "#length of list\n",
    "arr = [1,2,3, 'a','b','katta',4.9,0,1,'a']\n",
    "n = len(arr)\n",
    "print(n)"
   ]
  },
  {
   "cell_type": "code",
   "execution_count": 13,
   "id": "85f11ab8-3273-425b-b0e3-1e7e58dc727b",
   "metadata": {},
   "outputs": [
    {
     "name": "stdout",
     "output_type": "stream",
     "text": [
      "['a', 'b', 'c', 'd']\n",
      "<class 'str'> <class 'list'>\n"
     ]
    }
   ],
   "source": [
    "#string to list type conversion\n",
    "s1 = \"abcd\"\n",
    "l1 = list(s1)\n",
    "print(l1)\n",
    "print(type(s1),type(l1))"
   ]
  },
  {
   "cell_type": "code",
   "execution_count": 14,
   "id": "0f9d8a24-60b2-4a2c-93bb-718bf2ce14b7",
   "metadata": {},
   "outputs": [
    {
     "name": "stdout",
     "output_type": "stream",
     "text": [
      "[12, 3, 4, 0, 9, 8, 7]\n"
     ]
    }
   ],
   "source": [
    "#list concatination\n",
    "l1 = [12,3,4]\n",
    "l2 = [0,9,8,7]\n",
    "print(l1 + l2)"
   ]
  },
  {
   "cell_type": "code",
   "execution_count": 15,
   "id": "4fdb63ef-3f20-48cd-a129-afe58ba0794e",
   "metadata": {},
   "outputs": [
    {
     "name": "stdout",
     "output_type": "stream",
     "text": [
      "[12, 3, 4, 12, 3, 4, 12, 3, 4, 12, 3, 4]\n"
     ]
    }
   ],
   "source": [
    "#list repetition\n",
    "l1 = [12,3,4]\n",
    "print(l1*4)"
   ]
  },
  {
   "cell_type": "raw",
   "id": "2cf13593-e758-4432-ba3c-4c0c5d5fc1d2",
   "metadata": {},
   "source": [
    "List Methods\n",
    "append(value)-it adds single value at end of list\n",
    "extend()-it adds iterable value at end of list\n",
    "insert()-it adds the value at particular position and followed values are right shifted\n",
    "remove()-it removes value at first occurance position\n",
    "pop()-it returns and removes the value at specific position else at end of list\n",
    "clear()-it removes all elements in the list and returns empty list\n",
    "del - removes the entire list\n",
    "count(value)-returns the total occurances of a value in the list\n",
    "len(list) - returns total elements in the list\n",
    "min(list_name)- returns min value in list\n",
    "max(list_name)- returns max value in list\n",
    "sum(list_name)-sum of all elements in list\n",
    "sort()-it is used to get list in ascending or decending order\n",
    "reverse()-used to reverese the list\n",
    "sorted()-it creates new list for sorted list\n",
    "index(value)-returns the value of index"
   ]
  },
  {
   "cell_type": "code",
   "execution_count": 22,
   "id": "16f75231-5a1b-48d3-9e03-9d53975aa847",
   "metadata": {},
   "outputs": [
    {
     "name": "stdout",
     "output_type": "stream",
     "text": [
      "after append operation: [1, 2, 3, 'a', 'b', 'katta', 4.9, 0, 1, 'a', 33]\n",
      "after extend operation: [1, 2, 3, 'a', 'b', 'katta', 4.9, 0, 1, 'a', 33, 22, 3, 4, 5, 67]\n",
      "after insert operation: [1, 2, 3, 'a', 'b', 'katta', 4.9, 0, 1, 'a', 33, 22, 3, 4, 5, 67, 3]\n",
      "after remove operation: [1, 2, 'a', 'b', 'katta', 4.9, 0, 1, 'a', 33, 22, 3, 4, 5, 67, 3]\n",
      "after pop operation: [1, 2, 'a', 'b', 'katta', 4.9, 0, 1, 'a', 33, 22, 3, 4, 5, 67]\n",
      "after clear operation: []\n"
     ]
    }
   ],
   "source": [
    "#append(value),extend(),insert(),remove(),pop(),clear(),del\n",
    "arr = [1,2,3, 'a','b','katta',4.9,0,1,'a']\n",
    "arr.append(33)\n",
    "print(\"after append operation:\",arr)\n",
    "arr.extend([22,3,4,5,67])\n",
    "print(\"after extend operation:\",arr)\n",
    "arr.insert(79,3)\n",
    "print(\"after insert operation:\",arr)\n",
    "arr.remove(3)\n",
    "print(\"after remove operation:\",arr)\n",
    "arr.pop()\n",
    "print(\"after pop operation:\",arr)\n",
    "arr.clear()\n",
    "print(\"after clear operation:\",arr)\n",
    "del(arr)"
   ]
  },
  {
   "cell_type": "code",
   "execution_count": null,
   "id": "2c3686c0-4b48-4d39-b006-a74de01301f5",
   "metadata": {},
   "outputs": [],
   "source": []
  }
 ],
 "metadata": {
  "kernelspec": {
   "display_name": "Python 3 (ipykernel)",
   "language": "python",
   "name": "python3"
  },
  "language_info": {
   "codemirror_mode": {
    "name": "ipython",
    "version": 3
   },
   "file_extension": ".py",
   "mimetype": "text/x-python",
   "name": "python",
   "nbconvert_exporter": "python",
   "pygments_lexer": "ipython3",
   "version": "3.8.1"
  }
 },
 "nbformat": 4,
 "nbformat_minor": 5
}
