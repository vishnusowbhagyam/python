{
 "cells": [
  {
   "cell_type": "raw",
   "id": "b2cf7560-3a93-4db0-829f-d93bbcb6817f",
   "metadata": {},
   "source": [
    "why we need to take input from user:\n",
    "-to check multiple inputs\n",
    "-resuability-using the same code again and again\n",
    "-problem solving or realtime applications:login details,application form filling,atm pin enter,\n",
    "-no need to change program values again and again\n",
    "-dynamic nature\n"
   ]
  },
  {
   "cell_type": "raw",
   "id": "3c4d8830-53de-43a4-b319-d8d37241befc",
   "metadata": {},
   "source": [
    "#how to read integer value\n",
    "integer = int(input())\n",
    "where we use:\n",
    "-numerical calculations\n",
    "-age\n",
    "-counting\n",
    "-pincode\n",
    "-otp\n",
    "-mobile number etc"
   ]
  },
  {
   "cell_type": "raw",
   "id": "320b73a3-ee3c-4577-92b6-3b034c6f7d35",
   "metadata": {},
   "source": [
    "#float input from user:\n",
    "number = float(input())\n",
    "where we use:\n",
    "-percentages\n",
    "-cgpa\n",
    "-height,weight etc "
   ]
  },
  {
   "cell_type": "raw",
   "id": "fd25fcc9-380b-49e7-9d62-6e4bf6ff7276",
   "metadata": {},
   "source": [
    "#strings reading from user \n",
    "string = input()\n",
    "where we use:\n",
    "-names,brand,address,password,pancard number etc"
   ]
  },
  {
   "cell_type": "raw",
   "id": "70178809-ba8a-465c-a0e6-876aa894e567",
   "metadata": {},
   "source": [
    "\n",
    "\n"
   ]
  }
 ],
 "metadata": {
  "kernelspec": {
   "display_name": "Python 3 (ipykernel)",
   "language": "python",
   "name": "python3"
  },
  "language_info": {
   "codemirror_mode": {
    "name": "ipython",
    "version": 3
   },
   "file_extension": ".py",
   "mimetype": "text/x-python",
   "name": "python",
   "nbconvert_exporter": "python",
   "pygments_lexer": "ipython3",
   "version": "3.8.1"
  }
 },
 "nbformat": 4,
 "nbformat_minor": 5
}
