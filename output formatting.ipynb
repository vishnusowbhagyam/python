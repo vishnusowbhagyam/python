{
 "cells": [
  {
   "cell_type": "code",
   "execution_count": 1,
   "id": "7831e954-4041-437e-b59c-7d93f773d468",
   "metadata": {},
   "outputs": [
    {
     "name": "stdout",
     "output_type": "stream",
     "text": [
      "name: vishnu age: 21 email: katta@gmail\n"
     ]
    }
   ],
   "source": [
    "#using old style formatting using commas\n",
    "name = \"vishnu\"\n",
    "age = 21\n",
    "email = 'katta@gmail'\n",
    "print('name:',name,'age:',age,'email:',email)"
   ]
  },
  {
   "cell_type": "raw",
   "id": "b82c59ac-e640-4ffe-bc53-ec77e1d567c2",
   "metadata": {},
   "source": [
    "#using modulus operator\n",
    "## format specifiers\n",
    "- %d - integers\n",
    "- %f - float\n",
    "-%s - string\n",
    "and we have to give the same format what we have menstioned"
   ]
  },
  {
   "cell_type": "code",
   "execution_count": 2,
   "id": "664ce888-bfd2-40e1-b1e9-20c8a38048ff",
   "metadata": {},
   "outputs": [
    {
     "name": "stdout",
     "output_type": "stream",
     "text": [
      "Name is vishnu,age is 21 and email is katta@gmail\n"
     ]
    }
   ],
   "source": [
    "name = 'vishnu'\n",
    "age = 21\n",
    "email = 'katta@gmail'\n",
    "print('Name is %s,age is %d and email is %s'%(name,age,email))"
   ]
  },
  {
   "cell_type": "code",
   "execution_count": 7,
   "id": "9d735ed6-a941-4520-beda-e50bf34fedfd",
   "metadata": {},
   "outputs": [
    {
     "name": "stdout",
     "output_type": "stream",
     "text": [
      "name is vishnu, age is 21.056, and email is katta@gmail\n",
      "age is 21.06\n"
     ]
    }
   ],
   "source": [
    "#using F format method\n",
    "name = 'vishnu'\n",
    "age = 21.056\n",
    "email = 'katta@gmail'\n",
    "print(f'name is {name}, age is {age}, and email is {email}')\n",
    "#if we want any specific number from float\n",
    "print(f'age is {age:.2f}')"
   ]
  },
  {
   "cell_type": "code",
   "execution_count": 10,
   "id": "0af4ae18-c4cc-4b9a-b749-9b9ee49db29e",
   "metadata": {},
   "outputs": [
    {
     "name": "stdout",
     "output_type": "stream",
     "text": [
      "name is vishnu,age is 21 and email is katta@gmail\n"
     ]
    }
   ],
   "source": [
    "#using dot format method\n",
    "name = 'vishnu'\n",
    "age = 21\n",
    "email = \"katta@gmail\"\n",
    "print(\"name is {},age is {} and email is {}\".format(name,age,email))"
   ]
  },
  {
   "cell_type": "code",
   "execution_count": null,
   "id": "c111abbc-667d-4732-b489-6301726c48aa",
   "metadata": {},
   "outputs": [],
   "source": []
  }
 ],
 "metadata": {
  "kernelspec": {
   "display_name": "Python 3 (ipykernel)",
   "language": "python",
   "name": "python3"
  },
  "language_info": {
   "codemirror_mode": {
    "name": "ipython",
    "version": 3
   },
   "file_extension": ".py",
   "mimetype": "text/x-python",
   "name": "python",
   "nbconvert_exporter": "python",
   "pygments_lexer": "ipython3",
   "version": "3.8.1"
  }
 },
 "nbformat": 4,
 "nbformat_minor": 5
}
