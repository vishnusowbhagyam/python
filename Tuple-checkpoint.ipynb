{
 "cells": [
  {
   "cell_type": "raw",
   "id": "5de223c2-9401-4f12-8cd0-cc93c5ce90ce",
   "metadata": {},
   "source": [
    "Tuple\n",
    "-ordered collection of different data type elements\n",
    "- tuple is immutable data type\n",
    "- it is index based and slicable\n",
    "-it denotes with ()\n",
    "-allows duplicate elements"
   ]
  },
  {
   "cell_type": "code",
   "execution_count": 2,
   "id": "7d1d1215-86d1-4e27-b757-8afd1f309d00",
   "metadata": {},
   "outputs": [],
   "source": [
    "#create empty tuple\n",
    "t1 = ()\n",
    "t1 = tuple()"
   ]
  },
  {
   "cell_type": "code",
   "execution_count": 4,
   "id": "b43e162f-8bcc-4da1-893b-14bcfaf78c72",
   "metadata": {},
   "outputs": [],
   "source": [
    "#tuple with multiple values\n",
    "t1 = (1,2,3,'a','b','code',3.9)\n",
    "#tuple with single value\n",
    "t2 = (54,)"
   ]
  },
  {
   "cell_type": "code",
   "execution_count": 7,
   "id": "f1f9b449-11ba-4dfd-bb2c-c8e7d643e426",
   "metadata": {},
   "outputs": [
    {
     "name": "stdout",
     "output_type": "stream",
     "text": [
      "1\n"
     ]
    },
    {
     "ename": "TypeError",
     "evalue": "'tuple' object does not support item assignment",
     "output_type": "error",
     "traceback": [
      "\u001b[1;31m---------------------------------------------------------------------------\u001b[0m",
      "\u001b[1;31mTypeError\u001b[0m                                 Traceback (most recent call last)",
      "Cell \u001b[1;32mIn[7], line 4\u001b[0m\n\u001b[0;32m      2\u001b[0m t1 \u001b[38;5;241m=\u001b[39m (\u001b[38;5;241m1\u001b[39m,\u001b[38;5;241m2\u001b[39m,\u001b[38;5;241m3\u001b[39m,\u001b[38;5;124m'\u001b[39m\u001b[38;5;124ma\u001b[39m\u001b[38;5;124m'\u001b[39m,\u001b[38;5;124m'\u001b[39m\u001b[38;5;124mb\u001b[39m\u001b[38;5;124m'\u001b[39m,\u001b[38;5;124m'\u001b[39m\u001b[38;5;124mcode\u001b[39m\u001b[38;5;124m'\u001b[39m,\u001b[38;5;241m3.9\u001b[39m)\n\u001b[0;32m      3\u001b[0m \u001b[38;5;28mprint\u001b[39m(t1[\u001b[38;5;241m0\u001b[39m])\n\u001b[1;32m----> 4\u001b[0m \u001b[43mt1\u001b[49m\u001b[43m[\u001b[49m\u001b[38;5;241;43m0\u001b[39;49m\u001b[43m]\u001b[49m \u001b[38;5;241m=\u001b[39m \u001b[38;5;241m99\u001b[39m\n\u001b[0;32m      5\u001b[0m \u001b[38;5;28mprint\u001b[39m(t1)\n",
      "\u001b[1;31mTypeError\u001b[0m: 'tuple' object does not support item assignment"
     ]
    }
   ],
   "source": [
    "#immutable\n",
    "t1 = (1,2,3,'a','b','code',3.9)\n",
    "print(t1[0])\n",
    "t1[0] = 99\n",
    "print(t1)"
   ]
  },
  {
   "cell_type": "code",
   "execution_count": 12,
   "id": "dc74f8a3-3119-476b-9b42-bcdccbc74509",
   "metadata": {},
   "outputs": [
    {
     "name": "stdin",
     "output_type": "stream",
     "text": [
      " 1 2 3 4 5 6 7\n",
      " 1 2 3 4 5 6 7\n",
      " 1 2 3 4 5 6 7\n"
     ]
    },
    {
     "name": "stdout",
     "output_type": "stream",
     "text": [
      "(1, 2, 3, 4, 5, 6, 7) ('1', '2', '3', '4', '5', '6', '7') (1.0, 2.0, 3.0, 4.0, 5.0, 6.0, 7.0)\n"
     ]
    }
   ],
   "source": [
    "#read tuple from user\n",
    "t = tuple(map(int,input().split()))\n",
    "t1 = tuple(map(str,input().split()))\n",
    "t2 = tuple(map(float,input().split()))\n",
    "print(t,t1,t2)"
   ]
  },
  {
   "cell_type": "code",
   "execution_count": 13,
   "id": "0931e547-b49c-491e-8515-a8973986dd16",
   "metadata": {},
   "outputs": [
    {
     "name": "stdout",
     "output_type": "stream",
     "text": [
      "(1, 2, 3, 4, 5, 'a', 'b', 'c', 'd', 1, 2, 3, 4, 5, 6, 7, 8, 9, 0)\n"
     ]
    }
   ],
   "source": [
    "#tuple concatination\n",
    "t1 = (1,2,3,4,5)\n",
    "t2 = ('a','b','c','d',1,2,3,4,5,6,7,8,9,0)\n",
    "print(t1 + t2)"
   ]
  },
  {
   "cell_type": "code",
   "execution_count": 14,
   "id": "2b2b0fbc-157b-4ea9-a0ff-bab60f137c4e",
   "metadata": {},
   "outputs": [
    {
     "name": "stdout",
     "output_type": "stream",
     "text": [
      "(1, 2, 3, 4, 5, 1, 2, 3, 4, 5, 1, 2, 3, 4, 5)\n"
     ]
    }
   ],
   "source": [
    "#tuple repetition\n",
    "t1 = (1,2,3,4,5)\n",
    "print(t1*3)\n"
   ]
  },
  {
   "cell_type": "raw",
   "id": "980c8a5a-224a-46ee-af1e-cc43fafdf4a6",
   "metadata": {},
   "source": [
    "#Tuple methods\n",
    "-index(value)-returns position of value else error\n",
    "-count(value)-returns total occurances"
   ]
  },
  {
   "cell_type": "code",
   "execution_count": 17,
   "id": "112c0e90-3a27-4d75-a2c4-1a0df9642346",
   "metadata": {},
   "outputs": [
    {
     "name": "stdout",
     "output_type": "stream",
     "text": [
      "2\n",
      "7\n"
     ]
    }
   ],
   "source": [
    "#index(),count()\n",
    "t1 = (1,2,3,4,5,1,2,2,3,2,9,8,2,5,2,1,7,2)\n",
    "print(t1.index(3))\n",
    "print(t1.count(2))"
   ]
  },
  {
   "cell_type": "code",
   "execution_count": 21,
   "id": "3bd9a5dd-9318-4420-9e4a-c59cf41f6054",
   "metadata": {},
   "outputs": [
    {
     "name": "stdout",
     "output_type": "stream",
     "text": [
      "1\n",
      "73\n",
      "101\n",
      "8\n",
      "[1, 2, 3, 4, 5, 5, 8, 73]\n"
     ]
    }
   ],
   "source": [
    "#min(),max(),sum(),len(),sorted()\n",
    "t1 = (2,3,4,5,73,1,5,8)\n",
    "print(min(t1))\n",
    "print(max(t1))\n",
    "print(sum(t1))\n",
    "print(len(t1))\n",
    "print(sorted(t1))"
   ]
  },
  {
   "cell_type": "code",
   "execution_count": null,
   "id": "269e7598-f8bb-4656-b84c-be9d62f6305e",
   "metadata": {},
   "outputs": [],
   "source": []
  }
 ],
 "metadata": {
  "kernelspec": {
   "display_name": "Python 3 (ipykernel)",
   "language": "python",
   "name": "python3"
  },
  "language_info": {
   "codemirror_mode": {
    "name": "ipython",
    "version": 3
   },
   "file_extension": ".py",
   "mimetype": "text/x-python",
   "name": "python",
   "nbconvert_exporter": "python",
   "pygments_lexer": "ipython3",
   "version": "3.8.1"
  }
 },
 "nbformat": 4,
 "nbformat_minor": 5
}
