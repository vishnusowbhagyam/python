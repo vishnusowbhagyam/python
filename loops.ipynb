{
 "cells": [
  {
   "cell_type": "raw",
   "id": "c281d8f5-3917-4925-ad81-e29965fa61ea",
   "metadata": {},
   "source": [
    "#for loop: to check conditional statements for morethan one elements than we use for loop. or to iterate all elements in list,tuple,set,dictionary or range.\n",
    "syntax_range:\n",
    "range(start,end,step)\n",
    "syntax_for:\n",
    "for iterator in iterable:\n",
    "for-keyword\n",
    "iteratir-variable name\n",
    "in-membership operators\n",
    "iterable-list,tuple,set,dict,range\n",
    "e.g:for i in range(1,10):\n",
    "        print(i)\n",
    "#list element access using for loop:\n",
    "for i in lst:\n",
    "    print(i)"
   ]
  },
  {
   "cell_type": "raw",
   "id": "15d8b7ac-61dc-488f-88ca-ddd5db4cb2a3",
   "metadata": {},
   "source": [
    "#while loop\n",
    "in python while loop statement check the condition if condition is true,it executes loop statements else after loop statement\n",
    "syntax:initialize variable\n",
    "        while(condition):\n",
    "            #block of code\n",
    "            #increment "
   ]
  }
 ],
 "metadata": {
  "kernelspec": {
   "display_name": "Python 3 (ipykernel)",
   "language": "python",
   "name": "python3"
  },
  "language_info": {
   "codemirror_mode": {
    "name": "ipython",
    "version": 3
   },
   "file_extension": ".py",
   "mimetype": "text/x-python",
   "name": "python",
   "nbconvert_exporter": "python",
   "pygments_lexer": "ipython3",
   "version": "3.8.1"
  }
 },
 "nbformat": 4,
 "nbformat_minor": 5
}
