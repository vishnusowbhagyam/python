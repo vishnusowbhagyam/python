{
 "cells": [
  {
   "cell_type": "raw",
   "id": "e97e3a01-a917-4a37-8dd5-7f4833917109",
   "metadata": {},
   "source": [
    "#if condition\n",
    "syntax: if condition:\n",
    "            #if block code\n",
    "if condition is true it executes if block of code else it executes after if block of code.\n"
   ]
  },
  {
   "cell_type": "code",
   "execution_count": 3,
   "id": "a36ac50a-d71a-4c11-adc7-e6a9c2cc16c5",
   "metadata": {},
   "outputs": [
    {
     "name": "stdin",
     "output_type": "stream",
     "text": [
      " -7\n"
     ]
    },
    {
     "name": "stdout",
     "output_type": "stream",
     "text": [
      "code done\n"
     ]
    }
   ],
   "source": [
    "num = int(input())\n",
    "if num > 0:\n",
    "    print(\"the input number is positive integer\")\n",
    "print(\"code done\")"
   ]
  },
  {
   "cell_type": "raw",
   "id": "899fdb87-5945-4d36-a239-a21dc33adce5",
   "metadata": {},
   "source": [
    "#if-else\n",
    "suntax:\n",
    "if condition:\n",
    "    if block code\n",
    "else:\n",
    "    else block code\n",
    "#if condition is true it executes if block of code otherwise it executes else block of code"
   ]
  },
  {
   "cell_type": "code",
   "execution_count": 7,
   "id": "d856035d-2c75-4248-8428-5d6c05603445",
   "metadata": {},
   "outputs": [
    {
     "name": "stdin",
     "output_type": "stream",
     "text": [
      " 25\n"
     ]
    },
    {
     "name": "stdout",
     "output_type": "stream",
     "text": [
      "eligible for vote\n"
     ]
    }
   ],
   "source": [
    "age = float(input())\n",
    "if age >= 18:\n",
    "    print(\"eligible for vote\")\n",
    "else:\n",
    "    print(\"not eligible for vote\")\n"
   ]
  },
  {
   "cell_type": "code",
   "execution_count": 8,
   "id": "7b793bea-5b90-45c6-a17d-8707a6177d9d",
   "metadata": {},
   "outputs": [
    {
     "name": "stdin",
     "output_type": "stream",
     "text": [
      " 12\n"
     ]
    },
    {
     "name": "stdout",
     "output_type": "stream",
     "text": [
      "12 is a positive number\n"
     ]
    }
   ],
   "source": [
    "#to check the given number is positive or negative\n",
    "num = int(input())\n",
    "if num >= 0:\n",
    "    print(f\"{num} is a positive number\")\n",
    "else:\n",
    "    print(f\"{num} is negative number\")"
   ]
  },
  {
   "cell_type": "code",
   "execution_count": 13,
   "id": "efd8c4f3-f970-4a73-bd7e-11b899f6a134",
   "metadata": {},
   "outputs": [
    {
     "name": "stdin",
     "output_type": "stream",
     "text": [
      " 2002\n"
     ]
    },
    {
     "name": "stdout",
     "output_type": "stream",
     "text": [
      "2002 is not a leap year\n"
     ]
    }
   ],
   "source": [
    "#check whether a given year is leap year or not\n",
    "year = int(input())\n",
    "if (year % 4 == 0 or (year %4 == 0 and year%400 == 0) or (year %4 == 0 and year == 100)):\n",
    "    print(f\"{year} is a leap year\")\n",
    "else:\n",
    "    print(f\"{year} is not a leap year\")"
   ]
  },
  {
   "cell_type": "code",
   "execution_count": 15,
   "id": "69ea8ffb-06a1-4d93-b39e-78e27e7db988",
   "metadata": {},
   "outputs": [
    {
     "name": "stdin",
     "output_type": "stream",
     "text": [
      " 15\n"
     ]
    },
    {
     "name": "stdout",
     "output_type": "stream",
     "text": [
      "odd\n"
     ]
    }
   ],
   "source": [
    "#check whether a number is een or odd\n",
    "num = int(input())\n",
    "if num % 2 == 0:\n",
    "    print(\"even\")\n",
    "else:\n",
    "    print(\"odd\")\n",
    "    "
   ]
  },
  {
   "cell_type": "code",
   "execution_count": 17,
   "id": "225797f9-8b2a-4e56-8658-9a68436c0ed2",
   "metadata": {},
   "outputs": [
    {
     "name": "stdin",
     "output_type": "stream",
     "text": [
      " 15\n",
      " 52\n"
     ]
    },
    {
     "name": "stdout",
     "output_type": "stream",
     "text": [
      "52 is greater than 15\n"
     ]
    }
   ],
   "source": [
    "#find the greatest of two numbers\n",
    "num1 = int(input())\n",
    "num2 = int(input())\n",
    "if num1 > num2:\n",
    "    print(f\"{num1} is greater than {num2}\")\n",
    "else:\n",
    "    print(f\"{num2} is greater than {num1}\")"
   ]
  },
  {
   "cell_type": "code",
   "execution_count": 20,
   "id": "17792224-1eda-4ee8-927f-15f420e8e718",
   "metadata": {},
   "outputs": [
    {
     "name": "stdin",
     "output_type": "stream",
     "text": [
      " 25\n",
      " 12\n",
      " 54\n"
     ]
    },
    {
     "name": "stdout",
     "output_type": "stream",
     "text": [
      "54 is greater than 25,12\n"
     ]
    }
   ],
   "source": [
    "#find the largest among three numbers\n",
    "num1 = int(input())\n",
    "num2 = int(input())\n",
    "num3 = int(input())\n",
    "if num1 > num2 and num1 > num3:\n",
    "    print(f\"{num1} is greater than {num2},{num3}\")\n",
    "elif (num2 > num1 and num2 > num3):\n",
    "    print(f\"{num2} is greater than {num1},{num3}\")\n",
    "else:\n",
    "    print(f\"{num3} is greater than {num1},{num2}\")\n",
    "    "
   ]
  },
  {
   "cell_type": "code",
   "execution_count": 25,
   "id": "4d7bd117-527f-43e4-b63d-463f6f140186",
   "metadata": {},
   "outputs": [
    {
     "name": "stdin",
     "output_type": "stream",
     "text": [
      " 55\n"
     ]
    },
    {
     "name": "stdout",
     "output_type": "stream",
     "text": [
      "55 is divisible by both 5 and 11\n"
     ]
    }
   ],
   "source": [
    "#check if a number is divisible by 5 and 11\n",
    "num = int(input())\n",
    "if num % 5 == 0 and num % 11 == 0:\n",
    "    print(f\"{num} is divisible by both 5 and 11\")\n",
    "else:\n",
    "    print(f\"{num} is not divisible by 5 and 11\")"
   ]
  },
  {
   "cell_type": "code",
   "execution_count": 27,
   "id": "2c235986-79c7-4849-8c2b-e1be18855534",
   "metadata": {},
   "outputs": [
    {
     "name": "stdin",
     "output_type": "stream",
     "text": [
      " q\n"
     ]
    },
    {
     "name": "stdout",
     "output_type": "stream",
     "text": [
      "q is a consonent\n"
     ]
    }
   ],
   "source": [
    "#check whether a character is vowel or consonent\n",
    "vowels = \"aeiouAEIOU\"\n",
    "char = input()\n",
    "if char in vowels:\n",
    "    print(f\"{char} is a vowel\")\n",
    "else:\n",
    "    print(f\"{char} is a consonent\")"
   ]
  },
  {
   "cell_type": "code",
   "execution_count": 31,
   "id": "16e735ca-a398-4d85-997e-45fcbbbeec6d",
   "metadata": {},
   "outputs": [
    {
     "name": "stdin",
     "output_type": "stream",
     "text": [
      " 36\n"
     ]
    },
    {
     "name": "stdout",
     "output_type": "stream",
     "text": [
      "36 is multiple of 3 or 7\n"
     ]
    }
   ],
   "source": [
    "#check whether a numer is multiple of 3 or 7\n",
    "num = int(input())\n",
    "if num % 3 == 0 or num % 7 == 0:\n",
    "    print(f\"{num} is multiple of 3 or 7\")\n",
    "else:\n",
    "    print(f\"{num} is not a multiple of 3 or 7\")\n",
    "    "
   ]
  },
  {
   "cell_type": "code",
   "execution_count": 34,
   "id": "a5d1a721-e51d-42b2-9783-cc831f9b6a81",
   "metadata": {},
   "outputs": [
    {
     "name": "stdin",
     "output_type": "stream",
     "text": [
      " ;\n"
     ]
    },
    {
     "name": "stdout",
     "output_type": "stream",
     "text": [
      "; is a special character\n"
     ]
    }
   ],
   "source": [
    "#check whether a character is in uppercase or lowercase or digit or a special character\n",
    "char = input()\n",
    "if char.isupper():\n",
    "    print(f\"{char} is in uppercase\")\n",
    "elif(char.islower()):\n",
    "    print(f\"{char} is in lowercase\")\n",
    "elif(char.isdigit()):\n",
    "    print(f\"{char} is a digit\")\n",
    "else:\n",
    "    print(f\"{char} is a special character\")"
   ]
  },
  {
   "cell_type": "code",
   "execution_count": null,
   "id": "9260bd6f-0479-43c9-9364-4ae8bd33cfb7",
   "metadata": {},
   "outputs": [],
   "source": []
  }
 ],
 "metadata": {
  "kernelspec": {
   "display_name": "Python 3 (ipykernel)",
   "language": "python",
   "name": "python3"
  },
  "language_info": {
   "codemirror_mode": {
    "name": "ipython",
    "version": 3
   },
   "file_extension": ".py",
   "mimetype": "text/x-python",
   "name": "python",
   "nbconvert_exporter": "python",
   "pygments_lexer": "ipython3",
   "version": "3.8.1"
  }
 },
 "nbformat": 4,
 "nbformat_minor": 5
}
